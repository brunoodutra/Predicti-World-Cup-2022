{
 "cells": [
  {
   "cell_type": "markdown",
   "metadata": {},
   "source": [
    "# Predicting FIFA World Cup 2022"
   ]
  },
  {
   "cell_type": "markdown",
   "metadata": {},
   "source": [
    "## Importing libraries"
   ]
  },
  {
   "cell_type": "code",
   "execution_count": 196,
   "metadata": {},
   "outputs": [],
   "source": [
    "import numpy as np \n",
    "import pandas as pd \n",
    "import matplotlib.pyplot as plt\n",
    "import seaborn as sns\n",
    "import os\n",
    "import warnings\n",
    "warnings.filterwarnings('ignore')"
   ]
  },
  {
   "cell_type": "markdown",
   "metadata": {},
   "source": [
    "## Reading the database"
   ]
  },
  {
   "cell_type": "code",
   "execution_count": 197,
   "metadata": {},
   "outputs": [
    {
     "data": {
      "text/html": [
       "<div>\n",
       "<style scoped>\n",
       "    .dataframe tbody tr th:only-of-type {\n",
       "        vertical-align: middle;\n",
       "    }\n",
       "\n",
       "    .dataframe tbody tr th {\n",
       "        vertical-align: top;\n",
       "    }\n",
       "\n",
       "    .dataframe thead th {\n",
       "        text-align: right;\n",
       "    }\n",
       "</style>\n",
       "<table border=\"1\" class=\"dataframe\">\n",
       "  <thead>\n",
       "    <tr style=\"text-align: right;\">\n",
       "      <th></th>\n",
       "      <th>home_team</th>\n",
       "      <th>away_team</th>\n",
       "      <th>home_team_fifa_rank</th>\n",
       "      <th>away_team_fifa_rank</th>\n",
       "      <th>home_team_goalkeeper_score</th>\n",
       "      <th>away_team_goalkeeper_score</th>\n",
       "      <th>home_team_mean_defense_score</th>\n",
       "      <th>home_team_mean_offense_score</th>\n",
       "      <th>home_team_mean_midfield_score</th>\n",
       "      <th>away_team_mean_defense_score</th>\n",
       "      <th>away_team_mean_offense_score</th>\n",
       "      <th>away_team_mean_midfield_score</th>\n",
       "      <th>home_team_result_numeric</th>\n",
       "    </tr>\n",
       "  </thead>\n",
       "  <tbody>\n",
       "    <tr>\n",
       "      <th>9316</th>\n",
       "      <td>Netherlands</td>\n",
       "      <td>Wales</td>\n",
       "      <td>10</td>\n",
       "      <td>18</td>\n",
       "      <td>81.0</td>\n",
       "      <td>74.0</td>\n",
       "      <td>85.0</td>\n",
       "      <td>83.0</td>\n",
       "      <td>84.0</td>\n",
       "      <td>75.0</td>\n",
       "      <td>73.0</td>\n",
       "      <td>78.0</td>\n",
       "      <td>1</td>\n",
       "    </tr>\n",
       "    <tr>\n",
       "      <th>9317</th>\n",
       "      <td>Poland</td>\n",
       "      <td>Belgium</td>\n",
       "      <td>26</td>\n",
       "      <td>2</td>\n",
       "      <td>87.0</td>\n",
       "      <td>89.0</td>\n",
       "      <td>75.0</td>\n",
       "      <td>85.0</td>\n",
       "      <td>76.0</td>\n",
       "      <td>81.0</td>\n",
       "      <td>86.0</td>\n",
       "      <td>86.0</td>\n",
       "      <td>0</td>\n",
       "    </tr>\n",
       "    <tr>\n",
       "      <th>9318</th>\n",
       "      <td>Chile</td>\n",
       "      <td>Ghana</td>\n",
       "      <td>28</td>\n",
       "      <td>60</td>\n",
       "      <td>79.0</td>\n",
       "      <td>74.0</td>\n",
       "      <td>76.0</td>\n",
       "      <td>77.0</td>\n",
       "      <td>78.0</td>\n",
       "      <td>76.0</td>\n",
       "      <td>76.0</td>\n",
       "      <td>78.0</td>\n",
       "      <td>0</td>\n",
       "    </tr>\n",
       "    <tr>\n",
       "      <th>9319</th>\n",
       "      <td>Japan</td>\n",
       "      <td>Tunisia</td>\n",
       "      <td>23</td>\n",
       "      <td>35</td>\n",
       "      <td>73.0</td>\n",
       "      <td>64.0</td>\n",
       "      <td>75.0</td>\n",
       "      <td>75.0</td>\n",
       "      <td>78.0</td>\n",
       "      <td>71.0</td>\n",
       "      <td>72.0</td>\n",
       "      <td>74.0</td>\n",
       "      <td>0</td>\n",
       "    </tr>\n",
       "    <tr>\n",
       "      <th>9320</th>\n",
       "      <td>Korea Republic</td>\n",
       "      <td>Egypt</td>\n",
       "      <td>29</td>\n",
       "      <td>32</td>\n",
       "      <td>75.0</td>\n",
       "      <td>70.0</td>\n",
       "      <td>73.0</td>\n",
       "      <td>80.0</td>\n",
       "      <td>74.0</td>\n",
       "      <td>70.0</td>\n",
       "      <td>79.0</td>\n",
       "      <td>71.0</td>\n",
       "      <td>1</td>\n",
       "    </tr>\n",
       "  </tbody>\n",
       "</table>\n",
       "</div>"
      ],
      "text/plain": [
       "           home_team away_team  home_team_fifa_rank  away_team_fifa_rank  \\\n",
       "9316     Netherlands     Wales                   10                   18   \n",
       "9317          Poland   Belgium                   26                    2   \n",
       "9318           Chile     Ghana                   28                   60   \n",
       "9319           Japan   Tunisia                   23                   35   \n",
       "9320  Korea Republic     Egypt                   29                   32   \n",
       "\n",
       "      home_team_goalkeeper_score  away_team_goalkeeper_score  \\\n",
       "9316                        81.0                        74.0   \n",
       "9317                        87.0                        89.0   \n",
       "9318                        79.0                        74.0   \n",
       "9319                        73.0                        64.0   \n",
       "9320                        75.0                        70.0   \n",
       "\n",
       "      home_team_mean_defense_score  home_team_mean_offense_score  \\\n",
       "9316                          85.0                          83.0   \n",
       "9317                          75.0                          85.0   \n",
       "9318                          76.0                          77.0   \n",
       "9319                          75.0                          75.0   \n",
       "9320                          73.0                          80.0   \n",
       "\n",
       "      home_team_mean_midfield_score  away_team_mean_defense_score  \\\n",
       "9316                           84.0                          75.0   \n",
       "9317                           76.0                          81.0   \n",
       "9318                           78.0                          76.0   \n",
       "9319                           78.0                          71.0   \n",
       "9320                           74.0                          70.0   \n",
       "\n",
       "      away_team_mean_offense_score  away_team_mean_midfield_score  \\\n",
       "9316                          73.0                           78.0   \n",
       "9317                          86.0                           86.0   \n",
       "9318                          76.0                           78.0   \n",
       "9319                          72.0                           74.0   \n",
       "9320                          79.0                           71.0   \n",
       "\n",
       "      home_team_result_numeric  \n",
       "9316                         1  \n",
       "9317                         0  \n",
       "9318                         0  \n",
       "9319                         0  \n",
       "9320                         1  "
      ]
     },
     "execution_count": 197,
     "metadata": {},
     "output_type": "execute_result"
    }
   ],
   "source": [
    "final_df = pd.read_csv('data/train_features.csv')\n",
    "final_df.tail()"
   ]
  },
  {
   "cell_type": "markdown",
   "metadata": {},
   "source": [
    "### Train data "
   ]
  },
  {
   "cell_type": "markdown",
   "metadata": {},
   "source": [
    "get X and y"
   ]
  },
  {
   "cell_type": "code",
   "execution_count": 198,
   "metadata": {},
   "outputs": [],
   "source": [
    "y=final_df['home_team_result_numeric']\n",
    "#y=pd.get_dummies(final_df['home_team_result_numeric'])\n",
    "X=final_df.iloc[:,2:-1]"
   ]
  },
  {
   "cell_type": "markdown",
   "metadata": {},
   "source": [
    "scaling"
   ]
  },
  {
   "cell_type": "code",
   "execution_count": 199,
   "metadata": {},
   "outputs": [],
   "source": [
    "from sklearn.preprocessing import StandardScaler\n",
    "scaler = StandardScaler()\n",
    "X_train = scaler.fit_transform(X)"
   ]
  },
  {
   "cell_type": "markdown",
   "metadata": {},
   "source": [
    "slit data to train and test "
   ]
  },
  {
   "cell_type": "code",
   "execution_count": 200,
   "metadata": {},
   "outputs": [],
   "source": [
    "from sklearn.model_selection import train_test_split\n",
    "X_train, X_val, y_train, y_val = train_test_split(X, y, test_size=0.1, random_state=42)\n",
    "X_hold_test, X_test, y_hold_test, y_test = train_test_split(X_val, y_val, test_size=0.5, random_state=42)"
   ]
  },
  {
   "cell_type": "markdown",
   "metadata": {},
   "source": [
    "metrics function"
   ]
  },
  {
   "cell_type": "code",
   "execution_count": 201,
   "metadata": {},
   "outputs": [],
   "source": [
    "from sklearn.metrics import recall_score, precision_score, roc_auc_score, accuracy_score, f1_score\n",
    "from sklearn.metrics import confusion_matrix"
   ]
  },
  {
   "cell_type": "code",
   "execution_count": 202,
   "metadata": {},
   "outputs": [],
   "source": [
    "def evaluate_results(y_test, y_predict):\n",
    "    print('Classification results:')\n",
    "    f1 = f1_score(y_test, y_predict,average='macro')\n",
    "    print(\"f1: %.2f%%\" % (f1 * 100.0)) \n",
    "    rec = recall_score(y_test, y_predict, average='macro')\n",
    "    print(\"recall: %.2f%%\" % (rec * 100.0)) \n",
    "    prc = precision_score(y_test, y_predict, average='macro')\n",
    "    print(\"precision: %.2f%%\" % (prc * 100.0)) "
   ]
  },
  {
   "cell_type": "code",
   "execution_count": 203,
   "metadata": {},
   "outputs": [],
   "source": [
    "from sklearn.metrics import classification_report,ConfusionMatrixDisplay\n",
    "def metrics_display(model):\n",
    "    model.fit(X_train,y_train)\n",
    "    y_pred = model.predict(X_test)\n",
    "    print(classification_report(y_test,y_pred))\n",
    "    ConfusionMatrixDisplay.from_predictions(y_test,y_pred);"
   ]
  },
  {
   "cell_type": "markdown",
   "metadata": {},
   "source": [
    "### Train the model "
   ]
  },
  {
   "cell_type": "markdown",
   "metadata": {},
   "source": [
    "Neural network\n"
   ]
  },
  {
   "cell_type": "code",
   "execution_count": 204,
   "metadata": {},
   "outputs": [
    {
     "data": {
      "text/plain": [
       "(8388, 10)"
      ]
     },
     "execution_count": 204,
     "metadata": {},
     "output_type": "execute_result"
    }
   ],
   "source": [
    "import tensorflow.keras\n",
    "from tensorflow.keras import Sequential\n",
    "from tensorflow.keras.layers import Dense,Dropout\n",
    "from tensorflow.keras import Input\n",
    "\n",
    "X_train.shape"
   ]
  },
  {
   "cell_type": "code",
   "execution_count": 205,
   "metadata": {},
   "outputs": [
    {
     "name": "stdout",
     "output_type": "stream",
     "text": [
      "WARNING:tensorflow:Please add `keras.layers.InputLayer` instead of `keras.Input` to Sequential model. `keras.Input` is intended to be used by Functional model.\n",
      "Epoch 1/10\n",
      "210/210 [==============================] - 2s 6ms/step - loss: 15.2930 - accuracy: 0.3539 - val_loss: 0.9126 - val_accuracy: 0.2199\n",
      "Epoch 2/10\n",
      "210/210 [==============================] - 1s 4ms/step - loss: 0.8540 - accuracy: 0.3382 - val_loss: 0.7786 - val_accuracy: 0.2193\n",
      "Epoch 3/10\n",
      "210/210 [==============================] - 1s 4ms/step - loss: 0.6809 - accuracy: 0.3314 - val_loss: 0.6520 - val_accuracy: 0.2151\n",
      "Epoch 4/10\n",
      "210/210 [==============================] - 1s 5ms/step - loss: 0.6226 - accuracy: 0.3276 - val_loss: 0.6064 - val_accuracy: 0.2199\n",
      "Epoch 5/10\n",
      "210/210 [==============================] - 1s 5ms/step - loss: 0.5653 - accuracy: 0.3279 - val_loss: 0.5656 - val_accuracy: 0.2199\n",
      "Epoch 6/10\n",
      "210/210 [==============================] - 1s 5ms/step - loss: 0.5558 - accuracy: 0.3469 - val_loss: 0.5215 - val_accuracy: 0.2199\n",
      "Epoch 7/10\n",
      "210/210 [==============================] - 1s 5ms/step - loss: 0.5345 - accuracy: 0.3370 - val_loss: 0.5239 - val_accuracy: 0.2205\n",
      "Epoch 8/10\n",
      "210/210 [==============================] - 1s 5ms/step - loss: 0.5115 - accuracy: 0.3386 - val_loss: 0.5104 - val_accuracy: 0.2199\n",
      "Epoch 9/10\n",
      "210/210 [==============================] - 1s 4ms/step - loss: 0.5176 - accuracy: 0.3360 - val_loss: 0.4956 - val_accuracy: 0.2211\n",
      "Epoch 10/10\n",
      "210/210 [==============================] - 1s 5ms/step - loss: 0.5243 - accuracy: 0.3501 - val_loss: 0.4918 - val_accuracy: 0.1925\n"
     ]
    },
    {
     "data": {
      "text/plain": [
       "<tensorflow.python.keras.callbacks.History at 0x22593a954c0>"
      ]
     },
     "execution_count": 205,
     "metadata": {},
     "output_type": "execute_result"
    }
   ],
   "source": [
    "model = Sequential()\n",
    "model.add(Input(shape=(10,)))\n",
    "model.add(Dense(512,activation='relu'))\n",
    "model.add(Dropout(0.3))\n",
    "model.add(Dense(256,activation='relu'))\n",
    "model.add(Dropout(0.3))\n",
    "model.add(Dense(128,activation='relu'))\n",
    "model.add(Dropout(0.3))\n",
    "model.add(Dense(64,activation='relu'))\n",
    "model.add(Dropout(0.3))\n",
    "model.add(Dense(1,activation='linear'))\n",
    "model.compile(loss='mse', optimizer='adam', metrics=['accuracy'])\n",
    "model.fit(X_train,y_train,epochs=10,validation_split=0.2)"
   ]
  },
  {
   "cell_type": "code",
   "execution_count": 206,
   "metadata": {},
   "outputs": [
    {
     "name": "stdout",
     "output_type": "stream",
     "text": [
      "confusion_matrix: \n",
      "Classification results:\n",
      "f1: 15.67%\n",
      "recall: 24.49%\n",
      "precision: 11.53%\n",
      "              precision    recall  f1-score   support\n",
      "\n",
      "           0       0.10      0.20      0.13       116\n",
      "           1       0.00      0.00      0.00       241\n",
      "           2       0.24      0.54      0.34       110\n",
      "\n",
      "    accuracy                           0.18       467\n",
      "   macro avg       0.12      0.24      0.16       467\n",
      "weighted avg       0.08      0.18      0.11       467\n",
      "\n"
     ]
    },
    {
     "data": {
      "image/png": "[encoded data removed]",
      "text/plain": [
       "<Figure size 432x288 with 2 Axes>"
      ]
     },
     "metadata": {
      "needs_background": "light"
     },
     "output_type": "display_data"
    }
   ],
   "source": [
    "\n",
    "y_pred1 = model.predict(X_test)\n",
    "y_pred1 = np.argmax(y_pred1,axis=1)\n",
    "\n",
    "print(\"confusion_matrix: \")\n",
    "evaluate_results(y_test, y_pred1)\n",
    "print(classification_report(y_test,y_pred1))\n",
    "ConfusionMatrixDisplay.from_predictions(y_test,y_pred1);"
   ]
  },
  {
   "cell_type": "code",
   "execution_count": 208,
   "metadata": {},
   "outputs": [
    {
     "name": "stdout",
     "output_type": "stream",
     "text": [
      "Classification report for classifier SVC(C=1000000.0, gamma='auto'):\n",
      "              precision    recall  f1-score   support\n",
      "\n",
      "           0       0.18      0.03      0.05       116\n",
      "           1       0.51      0.95      0.67       241\n",
      "           2       0.43      0.03      0.05       110\n",
      "\n",
      "    accuracy                           0.50       467\n",
      "   macro avg       0.37      0.33      0.25       467\n",
      "weighted avg       0.41      0.50      0.37       467\n",
      "\n",
      "\n",
      "confusion_matrix: \n",
      "Classification results:\n",
      "f1: 25.44%\n",
      "recall: 33.31%\n",
      "precision: 37.32%\n",
      "              precision    recall  f1-score   support\n",
      "\n",
      "           0       0.18      0.03      0.05       116\n",
      "           1       0.51      0.95      0.67       241\n",
      "           2       0.43      0.03      0.05       110\n",
      "\n",
      "    accuracy                           0.50       467\n",
      "   macro avg       0.37      0.33      0.25       467\n",
      "weighted avg       0.41      0.50      0.37       467\n",
      "\n"
     ]
    },
    {
     "data": {
      "image/png": "[encoded data removed]",
      "text/plain": [
       "<Figure size 432x288 with 2 Axes>"
      ]
     },
     "metadata": {
      "needs_background": "light"
     },
     "output_type": "display_data"
    }
   ],
   "source": [
    "from sklearn import svm, metrics\n",
    "from sklearn.metrics import confusion_matrix\n",
    "#%% Using SVM model to test \n",
    "#=============================================================================\n",
    "clf = svm.SVC(kernel='rbf',gamma='auto',C=1E6)\n",
    "clf.fit(X_train,y_train)\n",
    "\n",
    "y_pred2=clf.predict(X_test)\n",
    "\n",
    "print(\"Classification report for classifier %s:\\n%s\\n\"\n",
    "      % (clf, metrics.classification_report(y_test, y_pred2)))\n",
    "\n",
    "# Plot non-normalized confusion matrix\n",
    "titles_options = [(\"Confusion matrix, without normalization\", None),\n",
    "                  (\"Normalized confusion matrix\", 'true')]\n",
    "cnf_matrix = confusion_matrix(y_test, y_pred2)\n",
    "\n",
    "print(\"confusion_matrix: \")\n",
    "evaluate_results(y_test, y_pred2)\n",
    "print(classification_report(y_test,y_pred2))\n",
    "ConfusionMatrixDisplay.from_predictions(y_test,y_pred2);"
   ]
  },
  {
   "cell_type": "code",
   "execution_count": null,
   "metadata": {},
   "outputs": [],
   "source": []
  }
 ],
 "metadata": {
  "kernelspec": {
   "display_name": "Python 3.8.5 ('base')",
   "language": "python",
   "name": "python3"
  },
  "language_info": {
   "codemirror_mode": {
    "name": "ipython",
    "version": 3
   },
   "file_extension": ".py",
   "mimetype": "text/x-python",
   "name": "python",
   "nbconvert_exporter": "python",
   "pygments_lexer": "ipython3",
   "version": "3.8.5"
  },
  "orig_nbformat": 4,
  "vscode": {
   "interpreter": {
    "hash": "008697ad960526c3664d6fd9bebc234fe853ef18da2f2015b139c465616175b3"
   }
  }
 },
 "nbformat": 4,
 "nbformat_minor": 2
}
